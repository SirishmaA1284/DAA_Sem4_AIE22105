{
  "nbformat": 4,
  "nbformat_minor": 0,
  "metadata": {
    "colab": {
      "provenance": []
    },
    "kernelspec": {
      "name": "python3",
      "display_name": "Python 3"
    },
    "language_info": {
      "name": "python"
    }
  },
  "cells": [
    {
      "cell_type": "code",
      "execution_count": 1,
      "metadata": {
        "colab": {
          "base_uri": "https://localhost:8080/"
        },
        "id": "yMPAJEIgaOac",
        "outputId": "c04b3b25-40ce-4d99-cd3e-bc107db36c80"
      },
      "outputs": [
        {
          "output_type": "stream",
          "name": "stdout",
          "text": [
            "Pairs with sum 10 found:\n",
            "(8, 2)\n",
            "(7, 3)\n"
          ]
        }
      ],
      "source": [
        "#Q1\n",
        "def find_pairs_with_sum(nums, target_sum):\n",
        "    seen = {}  # Dictionary to store previously seen numbers and their indices\n",
        "    pairs = []  # List to store pairs with the target sum\n",
        "    for i, num in enumerate(nums):\n",
        "        complement = target_sum - num  # Calculate the complement required to reach the target sum\n",
        "        if complement in seen:  # If the complement is found in the dictionary\n",
        "            pairs.append((nums[seen[complement]], num))  # Add the pair to the list\n",
        "        seen[num] = i  # Store the current number and its index in the dictionary\n",
        "    return pairs  # Return the list of pairs\n",
        "\n",
        "nums = [8, 7, 2, 5, 3, 1]\n",
        "target_sum = 10\n",
        "pairs = find_pairs_with_sum(nums, target_sum)\n",
        "if pairs:\n",
        "    print(\"Pairs with sum\", target_sum, \"found:\")\n",
        "    for pair in pairs:\n",
        "        print(pair)  # Print each pair\n",
        "else:\n",
        "    print(\"No pairs with sum\", target_sum, \"found\")  # If no pairs found, print a message\n"
      ]
    },
    {
      "cell_type": "code",
      "source": [
        "#Q2\n",
        "def sort_array(nums):\n",
        "    n = len(nums)\n",
        "    for i in range(n):\n",
        "        for j in range(0, n-i-1):\n",
        "            if nums[j] > nums[j+1]:\n",
        "                nums[j], nums[j+1] = nums[j+1], nums[j]\n",
        "\n",
        "def max_product_pair(nums):\n",
        "    if len(nums) < 2:\n",
        "        return None\n",
        "    sort_array(nums)  # Sorting the array\n",
        "    if nums[0] < 0 and nums[1] < 0 and abs(nums[0] * nums[1]) > nums[-1] * nums[-2]:\n",
        "        return nums[0], nums[1]  # If negative numbers present, return the pair with maximum product among them\n",
        "    else:\n",
        "        return nums[-1], nums[-2]  # Otherwise, return the last two numbers (largest ones)\n",
        "\n",
        "nums = [1, 7, 4, 2, 8, 6, 3, 9, 5]\n",
        "pair = max_product_pair(nums)\n",
        "if pair:\n",
        "    print(\"Pair with maximum product:\", pair)\n",
        "    product = pair[0] * pair[1]  # Calculate the product of the pair\n",
        "    print(\"Product of the pair:\", product)  # Print the product\n",
        "else:\n",
        "    print(\"No pair found\")  # If no pair found, print a message\n"
      ],
      "metadata": {
        "colab": {
          "base_uri": "https://localhost:8080/"
        },
        "id": "iimCkpMfbno4",
        "outputId": "ff8ae06c-a81a-423f-9f67-4472516f9e9b"
      },
      "execution_count": 3,
      "outputs": [
        {
          "output_type": "stream",
          "name": "stdout",
          "text": [
            "Pair with maximum product: (9, 8)\n",
            "Product of the pair: 72\n"
          ]
        }
      ]
    },
    {
      "cell_type": "code",
      "source": [
        "#Q3\n",
        "def find_swapped_elements(nums):\n",
        "    n = len(nums)\n",
        "    first_swap = None  # Initialize variable to store index of first swapped element\n",
        "    second_swap = None  # Initialize variable to store index of second swapped element\n",
        "    for i in range(n - 1):\n",
        "        if nums[i] > nums[i + 1]:  # Find the first element that is greater than the next one\n",
        "            first_swap = i\n",
        "            break\n",
        "    for i in range(n - 1, 0, -1):\n",
        "        if nums[i] < nums[i - 1]:  # Find the first element that is smaller than the previous one\n",
        "            second_swap = i\n",
        "            break\n",
        "\n",
        "    return first_swap, second_swap\n",
        "\n",
        "def sort_array(nums):\n",
        "    first_swap, second_swap = find_swapped_elements(nums)\n",
        "    nums[first_swap], nums[second_swap] = nums[second_swap], nums[first_swap]  # Swap the two elements\n",
        "\n",
        "nums = [3,8,6,7,5,9]\n",
        "sort_array(nums)\n",
        "print(\"Sorted array:\", nums)  # Print the sorted array\n"
      ],
      "metadata": {
        "colab": {
          "base_uri": "https://localhost:8080/"
        },
        "id": "kce-g6vudA_9",
        "outputId": "74b3a967-8e29-4efa-f33a-29e946fd9fc4"
      },
      "execution_count": 5,
      "outputs": [
        {
          "output_type": "stream",
          "name": "stdout",
          "text": [
            "Sorted array: [3, 5, 6, 7, 8, 9]\n"
          ]
        }
      ]
    },
    {
      "cell_type": "code",
      "source": [
        "#Q4\n",
        "def segregate_zeros_and_ones(arr):\n",
        "    # Initialize two pointers, one at the beginning and one at the end of the array\n",
        "    left = 0\n",
        "    right = len(arr) - 1\n",
        "\n",
        "    # Continue until the two pointers meet\n",
        "    while left < right:\n",
        "        # Move the left pointer to the right until it encounters a 1\n",
        "        while arr[left] == 0 and left < right:\n",
        "            left += 1\n",
        "        # Move the right pointer to the left until it encounters a 0\n",
        "        while arr[right] == 1 and left < right:\n",
        "            right -= 1\n",
        "        # Swap the elements at the left and right pointers\n",
        "        if left < right:\n",
        "            arr[left], arr[right] = arr[right], arr[left]\n",
        "            left += 1\n",
        "            right -= 1\n",
        "\n",
        "# Example usage:\n",
        "arr = [0, 1, 0, 1, 0, 0, 1, 1, 1, 0]\n",
        "segregate_zeros_and_ones(arr)\n",
        "print(\"Segregated array:\", arr)\n"
      ],
      "metadata": {
        "colab": {
          "base_uri": "https://localhost:8080/"
        },
        "id": "LvEM-OVKdc1Z",
        "outputId": "61424656-62c2-41a3-aced-c0b1eba0d549"
      },
      "execution_count": 6,
      "outputs": [
        {
          "output_type": "stream",
          "name": "stdout",
          "text": [
            "Segregated array: [0, 0, 0, 0, 0, 1, 1, 1, 1, 1]\n"
          ]
        }
      ]
    },
    {
      "cell_type": "code",
      "source": [
        "#Q5\n",
        "def merge_sort(arr):\n",
        "    if len(arr) <= 1:\n",
        "        return arr, 0\n",
        "\n",
        "    mid = len(arr) // 2\n",
        "    left_half, left_count = merge_sort(arr[:mid])\n",
        "    right_half, right_count = merge_sort(arr[mid:])\n",
        "\n",
        "    merged_arr, merge_count = merge(left_half, right_half)\n",
        "\n",
        "    total_count = left_count + right_count + merge_count\n",
        "\n",
        "    return merged_arr, total_count\n",
        "\n",
        "def merge(left, right):\n",
        "    merged_arr = []  # Initialize list to store merged array\n",
        "    inversion_count = 0  # Initialize inversion count\n",
        "    i = j = 0\n",
        "\n",
        "    while i < len(left) and j < len(right):\n",
        "        if left[i] <= right[j]:  # If element in left array is smaller or equal\n",
        "            merged_arr.append(left[i])\n",
        "            i += 1\n",
        "        else:\n",
        "            merged_arr.append(right[j])\n",
        "            j += 1\n",
        "            inversion_count += len(left) - i  # Increment inversion count by number of elements remaining in left array\n",
        "\n",
        "    merged_arr.extend(left[i:])  # Append remaining elements of left array\n",
        "    merged_arr.extend(right[j:])  # Append remaining elements of right array\n",
        "\n",
        "    return merged_arr, inversion_count\n",
        "\n",
        "A = [10, 1, 2, 4, 13, 9, 5]\n",
        "sorted_A, inv_count = merge_sort(A)\n",
        "print(\"Sorted array:\", sorted_A)  # Print the sorted array\n",
        "print(\"Number of inversions:\", inv_count)  # Print the number of inversions\n"
      ],
      "metadata": {
        "colab": {
          "base_uri": "https://localhost:8080/"
        },
        "id": "6n3k8QCzdlZT",
        "outputId": "fa1fe78a-20e9-476e-96e0-90b4ebf458be"
      },
      "execution_count": 7,
      "outputs": [
        {
          "output_type": "stream",
          "name": "stdout",
          "text": [
            "Sorted array: [1, 2, 4, 5, 9, 10, 13]\n",
            "Number of inversions: 8\n"
          ]
        }
      ]
    },
    {
      "cell_type": "code",
      "source": [
        "#6a\n",
        "def two_sum_brute_force(nums, K):\n",
        "    n = len(nums)\n",
        "    for i in range(n):\n",
        "        for j in range(i + 1, n):\n",
        "            if nums[i] + nums[j] == K:  # Check if pair sum equals target\n",
        "                return True, (nums[i], nums[j])  # Return True and the pair if found\n",
        "    return False, None  # Return False if no such pair found\n",
        "\n",
        "nums = [8, 4, 1, 6]\n",
        "K = 10\n",
        "found, pair = two_sum_brute_force(nums, K)\n",
        "if found:\n",
        "    print(f\"Yes, a pair ({pair[0]}, {pair[1]}) sums up to {K}.\")  # Print if pair found\n",
        "else:\n",
        "    print(\"No such pair found.\")  # Print if no pair found\n"
      ],
      "metadata": {
        "colab": {
          "base_uri": "https://localhost:8080/"
        },
        "id": "EAqj8RTTd1jm",
        "outputId": "64fe0634-b1b1-4e37-ddce-9303fb1134ad"
      },
      "execution_count": 8,
      "outputs": [
        {
          "output_type": "stream",
          "name": "stdout",
          "text": [
            "Yes, a pair (4, 6) sums up to 10.\n"
          ]
        }
      ]
    },
    {
      "cell_type": "code",
      "source": [
        "#6b\n",
        "def two_sum_sorted(nums, K):\n",
        "    nums.sort()  # Sort the array in ascending order\n",
        "    left = 0\n",
        "    right = len(nums) - 1\n",
        "    while left < right:\n",
        "        if nums[left] + nums[right] == K:\n",
        "            return True, (nums[left], nums[right])  # Return True and the pair if found\n",
        "        elif nums[left] + nums[right] < K:\n",
        "            left += 1\n",
        "        else:\n",
        "            right -= 1\n",
        "    return False, None  # Return False if no such pair found\n",
        "\n",
        "nums = [8, 4, 1, 6]\n",
        "K = 10\n",
        "found, pair = two_sum_sorted(nums, K)\n",
        "if found:\n",
        "    print(f\"Yes, a pair ({pair[0]}, {pair[1]}) sums up to {K}.\")  # Print if pair found\n",
        "else:\n",
        "    print(\"No such pair found.\")  # Print if no pair found\n"
      ],
      "metadata": {
        "colab": {
          "base_uri": "https://localhost:8080/"
        },
        "id": "1UahKG9XeHNy",
        "outputId": "c724fd93-e9db-4983-f606-f9f5d89fdad2"
      },
      "execution_count": 10,
      "outputs": [
        {
          "output_type": "stream",
          "name": "stdout",
          "text": [
            "Yes, a pair (4, 6) sums up to 10.\n"
          ]
        }
      ]
    }
  ]
}